{
  "nbformat": 4,
  "nbformat_minor": 0,
  "metadata": {
    "colab": {
      "provenance": [],
      "authorship_tag": "ABX9TyO2Myn3Nk4c/FYz9hDoPV3n",
      "include_colab_link": true
    },
    "kernelspec": {
      "name": "python3",
      "display_name": "Python 3"
    },
    "language_info": {
      "name": "python"
    }
  },
  "cells": [
    {
      "cell_type": "markdown",
      "metadata": {
        "id": "view-in-github",
        "colab_type": "text"
      },
      "source": [
        "<a href=\"https://colab.research.google.com/github/LimaByte/Plano_Estudos_Python/blob/main/Repetil%C3%A7%C3%B5es.ipynb\" target=\"_parent\"><img src=\"https://colab.research.google.com/assets/colab-badge.svg\" alt=\"Open In Colab\"/></a>"
      ]
    },
    {
      "cell_type": "markdown",
      "source": [
        "## Repetições -- Loops"
      ],
      "metadata": {
        "id": "YuenTg7MAcmy"
      }
    },
    {
      "cell_type": "markdown",
      "source": [
        "As repetições são utilizadas para excecutar uma sequência de ações que devem repetir n vezes"
      ],
      "metadata": {
        "id": "DIr2RojvAwAS"
      }
    },
    {
      "cell_type": "markdown",
      "source": [
        "## FOR\n",
        "####passo = range(inicio, fim)\n",
        "####or i in passo:\n",
        "####print('Bloco de Repetições)"
      ],
      "metadata": {
        "id": "UNh5ifuPA7g6"
      }
    },
    {
      "cell_type": "code",
      "source": [
        "### Imprima \"5 olás\" usando for\n",
        "passo = range(1,5+1)\n",
        "\n",
        "for i in passo:\n",
        "  print('Olá')"
      ],
      "metadata": {
        "colab": {
          "base_uri": "https://localhost:8080/"
        },
        "id": "PBFCOnF9ApTU",
        "outputId": "2f9af62c-0896-45d0-a5bd-261a20a408b1"
      },
      "execution_count": null,
      "outputs": [
        {
          "output_type": "stream",
          "name": "stdout",
          "text": [
            "Olá\n",
            "Olá\n",
            "Olá\n",
            "Olá\n",
            "Olá\n"
          ]
        }
      ]
    },
    {
      "cell_type": "code",
      "source": [
        "### Imprima \"5 olás\" usando for\n",
        "passo = range(1,5+1)\n",
        "\n",
        "for i in passo:\n",
        "  print('i = {} - Olá'.format(i))"
      ],
      "metadata": {
        "colab": {
          "base_uri": "https://localhost:8080/"
        },
        "id": "8ToXlTcJCSPV",
        "outputId": "495cf772-ac46-4012-8a16-f6cbad2c4f85"
      },
      "execution_count": null,
      "outputs": [
        {
          "output_type": "stream",
          "name": "stdout",
          "text": [
            "i = 1 - Olá\n",
            "i = 2 - Olá\n",
            "i = 3 - Olá\n",
            "i = 4 - Olá\n",
            "i = 5 - Olá\n"
          ]
        }
      ]
    },
    {
      "cell_type": "markdown",
      "source": [
        "### Exemplo 2 - Ler um libro de 20 páginas"
      ],
      "metadata": {
        "id": "40SYR0HlJ39m"
      }
    },
    {
      "cell_type": "code",
      "source": [
        "passo = range(1,20+1)\n",
        "\n",
        "for i in passo:\n",
        "  print('Leia a página {}'.format(i))\n",
        "print('Fim da leitura')"
      ],
      "metadata": {
        "colab": {
          "base_uri": "https://localhost:8080/"
        },
        "id": "i7tXX1eDCq_h",
        "outputId": "4e6ce15d-6132-4803-e7cb-a0936856dc0a"
      },
      "execution_count": null,
      "outputs": [
        {
          "output_type": "stream",
          "name": "stdout",
          "text": [
            "Leia a página 1\n",
            "Leia a página 2\n",
            "Leia a página 3\n",
            "Leia a página 4\n",
            "Leia a página 5\n",
            "Leia a página 6\n",
            "Leia a página 7\n",
            "Leia a página 8\n",
            "Leia a página 9\n",
            "Leia a página 10\n",
            "Leia a página 11\n",
            "Leia a página 12\n",
            "Leia a página 13\n",
            "Leia a página 14\n",
            "Leia a página 15\n",
            "Leia a página 16\n",
            "Leia a página 17\n",
            "Leia a página 18\n",
            "Leia a página 19\n",
            "Leia a página 20\n",
            "Fim da leitura\n"
          ]
        }
      ]
    },
    {
      "cell_type": "markdown",
      "source": [
        "### Exemplo 3 - Some 5 números digitados pelo usuário"
      ],
      "metadata": {
        "id": "BmvRwPh-K1Rb"
      }
    },
    {
      "cell_type": "code",
      "source": [
        "passo = range(1,5+1)\n",
        "soma = 0\n",
        "\n",
        "for i in passo:\n",
        "  n = int(input('Digite um número: '))\n",
        "  soma = soma + n\n",
        "print('Soma é de {}'.format(soma))"
      ],
      "metadata": {
        "colab": {
          "base_uri": "https://localhost:8080/"
        },
        "id": "zUqWSop_KHaG",
        "outputId": "59b7fa44-7008-497b-8da1-f5c55743bf01"
      },
      "execution_count": null,
      "outputs": [
        {
          "output_type": "stream",
          "name": "stdout",
          "text": [
            "Digite um número: 3\n",
            "Digite um número: 4\n",
            "Digite um número: 5\n",
            "Digite um número: 6\n",
            "Digite um número: 7\n",
            "Soma é de 25\n"
          ]
        }
      ]
    },
    {
      "cell_type": "markdown",
      "source": [
        "### Exemplo 4 - Alterando o Range"
      ],
      "metadata": {
        "id": "Fc_rAlcMM80c"
      }
    },
    {
      "cell_type": "code",
      "source": [
        "### ( range 0,10,2)\n",
        "passo = range (0,10,2)\n",
        "for i in passo:\n",
        "  print(i)\n",
        "print('Fim')"
      ],
      "metadata": {
        "colab": {
          "base_uri": "https://localhost:8080/"
        },
        "id": "6K9sY5GxM8cE",
        "outputId": "bf0fac6b-4dfd-4203-de3a-0e0e55d8c1bd"
      },
      "execution_count": null,
      "outputs": [
        {
          "output_type": "stream",
          "name": "stdout",
          "text": [
            "0\n",
            "2\n",
            "4\n",
            "6\n",
            "8\n",
            "Fim\n"
          ]
        }
      ]
    },
    {
      "cell_type": "code",
      "source": [
        "passo = range(10,1,-1)\n",
        "\n",
        "for i in passo:\n",
        "  print(i)"
      ],
      "metadata": {
        "colab": {
          "base_uri": "https://localhost:8080/"
        },
        "id": "C7_yRG0fLD1N",
        "outputId": "c31c3a99-3509-4d60-e07b-367445baa0f2"
      },
      "execution_count": null,
      "outputs": [
        {
          "output_type": "stream",
          "name": "stdout",
          "text": [
            "10\n",
            "9\n",
            "8\n",
            "7\n",
            "6\n",
            "5\n",
            "4\n",
            "3\n",
            "2\n"
          ]
        }
      ]
    },
    {
      "cell_type": "markdown",
      "source": [
        "Exercicio 1 - Some os números impares consecutivos começando em 1 e terminando em 9"
      ],
      "metadata": {
        "id": "kj6G-7ZXZn-g"
      }
    },
    {
      "cell_type": "code",
      "source": [
        "passo = range(1,9+1,2)\n",
        "soma = 0\n",
        "\n",
        "for i in passo:\n",
        "  soma = soma + i\n",
        "  print('i = {}, soma = {}'.format(i,soma))\n",
        "print(soma)"
      ],
      "metadata": {
        "id": "GbKTHa96Nng2",
        "colab": {
          "base_uri": "https://localhost:8080/"
        },
        "outputId": "1b17a512-03e4-47ff-d01c-d9bd8e8583aa"
      },
      "execution_count": null,
      "outputs": [
        {
          "output_type": "stream",
          "name": "stdout",
          "text": [
            "i = 1, soma = 1\n",
            "i = 3, soma = 4\n",
            "i = 5, soma = 9\n",
            "i = 7, soma = 16\n",
            "i = 9, soma = 25\n",
            "25\n"
          ]
        }
      ]
    },
    {
      "cell_type": "markdown",
      "source": [
        "### Cálculos incrimentais"
      ],
      "metadata": {
        "id": "_XX5_ngdafmw"
      }
    },
    {
      "cell_type": "code",
      "source": [
        "# Valor inicial\n",
        "total = 0\n",
        "\n",
        "# Iterar sobre uma sequência de números\n",
        "numeros = [1, 2, 3, 4, 5]\n",
        "for numero in numeros:\n",
        "    # Atualizar o valor incrementalmente\n",
        "    total += numero\n",
        "\n",
        "# Resultado final\n",
        "print(\"O total é:\", total)\n"
      ],
      "metadata": {
        "colab": {
          "base_uri": "https://localhost:8080/"
        },
        "id": "a_1j_7KyaBPs",
        "outputId": "99551767-31c0-4ee7-a358-b97b06189f76"
      },
      "execution_count": null,
      "outputs": [
        {
          "output_type": "stream",
          "name": "stdout",
          "text": [
            "O total é: 15\n"
          ]
        }
      ]
    },
    {
      "cell_type": "code",
      "source": [
        "### Começando pelo número 1, some 1 a ele até 10 vezes consecutivas\n",
        "soma = 1\n",
        "passo = range(1,10+1,2)\n",
        "\n",
        "for i in passo:\n",
        "  soma += 3\n",
        "print(soma)"
      ],
      "metadata": {
        "colab": {
          "base_uri": "https://localhost:8080/"
        },
        "id": "pSekj8WreHDH",
        "outputId": "3c6bbd6a-f87a-452d-96d6-6d6181094eb6"
      },
      "execution_count": null,
      "outputs": [
        {
          "output_type": "stream",
          "name": "stdout",
          "text": [
            "16\n"
          ]
        }
      ]
    },
    {
      "cell_type": "markdown",
      "source": [
        "2° Fase - --"
      ],
      "metadata": {
        "id": "KKRuL9xnt_Uu"
      }
    },
    {
      "cell_type": "code",
      "source": [
        "### Começando pelo número 2, multiplique por 2 a ele 9 vezes consecutivas\n",
        "multi = 2\n",
        "passo = range(1,9+1)\n",
        "\n",
        "for i in passo:\n",
        "  #multi = multi * 2\n",
        "  multi *= 2\n",
        "  print('i = {}, multi {}'.format(i,multi))"
      ],
      "metadata": {
        "id": "eAPpedM_jkoX",
        "colab": {
          "base_uri": "https://localhost:8080/"
        },
        "outputId": "628aeaf0-f9f8-43f3-94af-f10ca5bf3b61"
      },
      "execution_count": null,
      "outputs": [
        {
          "output_type": "stream",
          "name": "stdout",
          "text": [
            "i = 1, multi 4\n",
            "i = 2, multi 8\n",
            "i = 3, multi 16\n",
            "i = 4, multi 32\n",
            "i = 5, multi 64\n",
            "i = 6, multi 128\n",
            "i = 7, multi 256\n",
            "i = 8, multi 512\n",
            "i = 9, multi 1024\n"
          ]
        }
      ]
    },
    {
      "cell_type": "markdown",
      "source": [
        "Exercici 1 ---- Tire a médica de 3 números digitsdos pelo usuário"
      ],
      "metadata": {
        "id": "w96avm7T0ePo"
      }
    },
    {
      "cell_type": "code",
      "source": [
        "passo = range(1,3+1)\n",
        "soma = 0\n",
        "\n",
        "for i in passo:\n",
        "  n = float(input('Digite o {}° número: '.format(i)))\n",
        "  soma += n\n",
        "  print('i = {}, soma = {}'.format(i,soma))\n",
        "media = soma / i\n",
        "print('A media é de: {}'.format(media))"
      ],
      "metadata": {
        "colab": {
          "base_uri": "https://localhost:8080/"
        },
        "id": "ncSFV_wRwNZE",
        "outputId": "b07dcfb8-87e3-4d43-8396-a18255d3eb02"
      },
      "execution_count": null,
      "outputs": [
        {
          "output_type": "stream",
          "name": "stdout",
          "text": [
            "Digite o 1° número: 4\n",
            "i = 1, soma = 4.0\n",
            "Digite o 2° número: 6\n",
            "i = 2, soma = 10.0\n",
            "Digite o 3° número: 9\n",
            "i = 3, soma = 19.0\n",
            "A media é de: 6.333333333333333\n"
          ]
        }
      ]
    },
    {
      "cell_type": "markdown",
      "source": [
        "### Exercicio 2"
      ],
      "metadata": {
        "id": "-tJUZj3F23O5"
      }
    },
    {
      "cell_type": "code",
      "source": [
        "### Pergunte ao usuário  de quantos números ele quer tirar a média\n",
        "### Tire a média desses números"
      ],
      "metadata": {
        "id": "NjQIZeFJ1pgB"
      },
      "execution_count": null,
      "outputs": []
    },
    {
      "cell_type": "code",
      "source": [
        "qtd = int(input('Quantos números você quer tirar a média? '))\n",
        "passo = range(1, qtd + 1)\n",
        "soma = 0\n",
        "\n",
        "for i in  passo:\n",
        "  n = float(input('Digite o {}°número'.format(i)))\n",
        "  soma += n\n",
        "media = soma / i\n",
        "print('A média deu de : {}'.format(media))"
      ],
      "metadata": {
        "colab": {
          "base_uri": "https://localhost:8080/"
        },
        "id": "CT9h7rIB3HTE",
        "outputId": "80d247b3-2567-4b1e-d014-a0c5a356514e"
      },
      "execution_count": null,
      "outputs": [
        {
          "output_type": "stream",
          "name": "stdout",
          "text": [
            "Quantos números você quer tirar a média? 2\n",
            "Digite o 1°número5\n",
            "Digite o 2°número7\n",
            "A média deu de : 6.0\n"
          ]
        }
      ]
    },
    {
      "cell_type": "markdown",
      "source": [
        "### While"
      ],
      "metadata": {
        "id": "yb0TrS2vffmP"
      }
    },
    {
      "cell_type": "code",
      "source": [
        "### Quero ler um capitulo de um livro de um livro, más não sei quantas páginas esse capitulo tem\n",
        "\n",
        "fim = 'n'\n",
        "\n",
        "while fim == 'n':\n",
        "  print('Leia a página')\n",
        "  fim = input('Terminou o capitulo? (s/n) ')\n",
        "print('FIM')"
      ],
      "metadata": {
        "colab": {
          "base_uri": "https://localhost:8080/"
        },
        "id": "lZCzKUgFfhb0",
        "outputId": "3da070e4-d583-44e3-cd4e-f01d23508f80"
      },
      "execution_count": null,
      "outputs": [
        {
          "output_type": "stream",
          "name": "stdout",
          "text": [
            "Leia a página\n",
            "Terminou o capitulo? (s/n) n\n",
            "Leia a página\n",
            "Terminou o capitulo? (s/n) n\n",
            "Leia a página\n",
            "Terminou o capitulo? (s/n) s\n",
            "FIM\n"
          ]
        }
      ]
    },
    {
      "cell_type": "markdown",
      "source": [
        "fim = 'n': Aqui, uma variável chamada fim é inicializada com o valor 'n'. Essa variável será usada para controlar o loop while.\n",
        "\n",
        "while fim == 'n':: Este é o início de um loop while. O código dentro do loop será executado repetidamente enquanto a condição fim == 'n' for verdadeira.\n",
        "\n",
        "print('Leia a página'): Essa linha exibe a mensagem \"Leia a página\" no console (ou saída do programa) toda vez que o loop é executado.\n",
        "\n",
        "fim = input('Terminou o capitulo? (s/n) '): Aqui, o programa solicita ao usuário que insira uma resposta para a pergunta \"Terminou o capítulo? (s/n)\". A resposta do usuário é armazenada na variável fim.\n",
        "\n",
        "print('FIM'): Após o loop terminar, ou seja, quando a condição fim == 'n' se tornar falsa, o programa exibirá \"FIM\" no console.\n",
        "\n",
        "Aqui está o fluxo geral do programa:\n",
        "\n",
        "O programa inicia com fim sendo 'n'.\n",
        "Enquanto fim for igual a 'n', o programa continuará solicitando ao usuário que leia uma página e perguntará se ele terminou o capítulo.\n",
        "Se o usuário inserir 'n', o loop continuará, e o processo se repetirá.\n",
        "Se o usuário inserir 's', o loop terminará, e o programa exibirá \"FIM\" no console.\n",
        "Em resumo, o código é um pequeno programa que pede ao usuário para ler uma página e, em seguida, pergunta se ele terminou o capítulo. O programa continuará a fazer isso até que o usuário diga que terminou o capítulo (respondendo com 's')."
      ],
      "metadata": {
        "id": "2QIyDZPWgkSk"
      }
    },
    {
      "cell_type": "code",
      "source": [
        "### Exemplo 2 - Começando pelo número 1, some a ele 10 vezes consecutivas\n",
        "\n",
        "soma = 1\n",
        "i = 1\n",
        "\n",
        "while i < 10:\n",
        "  i += 1\n",
        "  soma += 1\n",
        "  print(soma)"
      ],
      "metadata": {
        "colab": {
          "base_uri": "https://localhost:8080/"
        },
        "id": "7HxYw4njf-bb",
        "outputId": "e57f48a1-2426-491f-c588-1348fd7484a7"
      },
      "execution_count": null,
      "outputs": [
        {
          "output_type": "stream",
          "name": "stdout",
          "text": [
            "2\n",
            "3\n",
            "4\n",
            "5\n",
            "6\n",
            "7\n",
            "8\n",
            "9\n",
            "10\n"
          ]
        }
      ]
    },
    {
      "cell_type": "markdown",
      "source": [
        "## Exercicio 1 = Some números digitados pelo usuário até a soma deles ultrapassar 20"
      ],
      "metadata": {
        "id": "Mmj7ZR_IiKfG"
      }
    },
    {
      "cell_type": "code",
      "source": [
        "soma = 0\n",
        "\n",
        "while soma < 20:\n",
        "  n = int(input('Digite o número: '))\n",
        "  soma += n\n",
        "print(soma)"
      ],
      "metadata": {
        "colab": {
          "base_uri": "https://localhost:8080/"
        },
        "id": "uYn5mi1DiUe8",
        "outputId": "e7ffdc9d-336b-4045-c210-3d73e9aafeae"
      },
      "execution_count": null,
      "outputs": [
        {
          "output_type": "stream",
          "name": "stdout",
          "text": [
            "Digite o número: 1\n",
            "Digite o número: 4\n",
            "Digite o número: 5\n",
            "Digite o número: 6\n",
            "Digite o número: 5\n",
            "21\n"
          ]
        }
      ]
    },
    {
      "cell_type": "markdown",
      "source": [
        "### Break"
      ],
      "metadata": {
        "id": "7uN8AkcrkaQP"
      }
    },
    {
      "cell_type": "code",
      "source": [
        "soma = 0\n",
        "\n",
        "while True:\n",
        "  n = float(input('Digite um valor: '))\n",
        "  soma += n\n",
        "print(soma)"
      ],
      "metadata": {
        "colab": {
          "base_uri": "https://localhost:8080/",
          "height": 405
        },
        "id": "VSTFxjJMirqQ",
        "outputId": "88c8c011-daef-44a9-d387-7adc8a105844"
      },
      "execution_count": null,
      "outputs": [
        {
          "output_type": "error",
          "ename": "KeyboardInterrupt",
          "evalue": "ignored",
          "traceback": [
            "\u001b[0;31m---------------------------------------------------------------------------\u001b[0m",
            "\u001b[0;31mKeyboardInterrupt\u001b[0m                         Traceback (most recent call last)",
            "\u001b[0;32m<ipython-input-8-65a2bab74b0a>\u001b[0m in \u001b[0;36m<cell line: 3>\u001b[0;34m()\u001b[0m\n\u001b[1;32m      2\u001b[0m \u001b[0;34m\u001b[0m\u001b[0m\n\u001b[1;32m      3\u001b[0m \u001b[0;32mwhile\u001b[0m \u001b[0;32mTrue\u001b[0m\u001b[0;34m:\u001b[0m\u001b[0;34m\u001b[0m\u001b[0;34m\u001b[0m\u001b[0m\n\u001b[0;32m----> 4\u001b[0;31m   \u001b[0mn\u001b[0m \u001b[0;34m=\u001b[0m \u001b[0mfloat\u001b[0m\u001b[0;34m(\u001b[0m\u001b[0minput\u001b[0m\u001b[0;34m(\u001b[0m\u001b[0;34m'Digite um valor: '\u001b[0m\u001b[0;34m)\u001b[0m\u001b[0;34m)\u001b[0m\u001b[0;34m\u001b[0m\u001b[0;34m\u001b[0m\u001b[0m\n\u001b[0m\u001b[1;32m      5\u001b[0m   \u001b[0msoma\u001b[0m \u001b[0;34m+=\u001b[0m \u001b[0mn\u001b[0m\u001b[0;34m\u001b[0m\u001b[0;34m\u001b[0m\u001b[0m\n\u001b[1;32m      6\u001b[0m \u001b[0mprint\u001b[0m\u001b[0;34m(\u001b[0m\u001b[0msoma\u001b[0m\u001b[0;34m)\u001b[0m\u001b[0;34m\u001b[0m\u001b[0;34m\u001b[0m\u001b[0m\n",
            "\u001b[0;32m/usr/local/lib/python3.10/dist-packages/ipykernel/kernelbase.py\u001b[0m in \u001b[0;36mraw_input\u001b[0;34m(self, prompt)\u001b[0m\n\u001b[1;32m    849\u001b[0m                 \u001b[0;34m\"raw_input was called, but this frontend does not support input requests.\"\u001b[0m\u001b[0;34m\u001b[0m\u001b[0;34m\u001b[0m\u001b[0m\n\u001b[1;32m    850\u001b[0m             )\n\u001b[0;32m--> 851\u001b[0;31m         return self._input_request(str(prompt),\n\u001b[0m\u001b[1;32m    852\u001b[0m             \u001b[0mself\u001b[0m\u001b[0;34m.\u001b[0m\u001b[0m_parent_ident\u001b[0m\u001b[0;34m,\u001b[0m\u001b[0;34m\u001b[0m\u001b[0;34m\u001b[0m\u001b[0m\n\u001b[1;32m    853\u001b[0m             \u001b[0mself\u001b[0m\u001b[0;34m.\u001b[0m\u001b[0m_parent_header\u001b[0m\u001b[0;34m,\u001b[0m\u001b[0;34m\u001b[0m\u001b[0;34m\u001b[0m\u001b[0m\n",
            "\u001b[0;32m/usr/local/lib/python3.10/dist-packages/ipykernel/kernelbase.py\u001b[0m in \u001b[0;36m_input_request\u001b[0;34m(self, prompt, ident, parent, password)\u001b[0m\n\u001b[1;32m    893\u001b[0m             \u001b[0;32mexcept\u001b[0m \u001b[0mKeyboardInterrupt\u001b[0m\u001b[0;34m:\u001b[0m\u001b[0;34m\u001b[0m\u001b[0;34m\u001b[0m\u001b[0m\n\u001b[1;32m    894\u001b[0m                 \u001b[0;31m# re-raise KeyboardInterrupt, to truncate traceback\u001b[0m\u001b[0;34m\u001b[0m\u001b[0;34m\u001b[0m\u001b[0m\n\u001b[0;32m--> 895\u001b[0;31m                 \u001b[0;32mraise\u001b[0m \u001b[0mKeyboardInterrupt\u001b[0m\u001b[0;34m(\u001b[0m\u001b[0;34m\"Interrupted by user\"\u001b[0m\u001b[0;34m)\u001b[0m \u001b[0;32mfrom\u001b[0m \u001b[0;32mNone\u001b[0m\u001b[0;34m\u001b[0m\u001b[0;34m\u001b[0m\u001b[0m\n\u001b[0m\u001b[1;32m    896\u001b[0m             \u001b[0;32mexcept\u001b[0m \u001b[0mException\u001b[0m \u001b[0;32mas\u001b[0m \u001b[0me\u001b[0m\u001b[0;34m:\u001b[0m\u001b[0;34m\u001b[0m\u001b[0;34m\u001b[0m\u001b[0m\n\u001b[1;32m    897\u001b[0m                 \u001b[0mself\u001b[0m\u001b[0;34m.\u001b[0m\u001b[0mlog\u001b[0m\u001b[0;34m.\u001b[0m\u001b[0mwarning\u001b[0m\u001b[0;34m(\u001b[0m\u001b[0;34m\"Invalid Message:\"\u001b[0m\u001b[0;34m,\u001b[0m \u001b[0mexc_info\u001b[0m\u001b[0;34m=\u001b[0m\u001b[0;32mTrue\u001b[0m\u001b[0;34m)\u001b[0m\u001b[0;34m\u001b[0m\u001b[0;34m\u001b[0m\u001b[0m\n",
            "\u001b[0;31mKeyboardInterrupt\u001b[0m: Interrupted by user"
          ]
        }
      ]
    },
    {
      "cell_type": "code",
      "source": [
        "from re import T\n",
        "### Soma os números até o usuário fazer parar\n",
        "soma = 0\n",
        "\n",
        "while True:\n",
        "  n = int(input('Digite um valor: '))\n",
        "  soma += n\n",
        "  continua = input('Você quer continuar? (s/n) ')\n",
        "  if continua == 'n':\n",
        "    break\n",
        "  print('Depois do break')\n",
        "print(soma)\n"
      ],
      "metadata": {
        "colab": {
          "base_uri": "https://localhost:8080/"
        },
        "id": "2eQt0TqmkvuQ",
        "outputId": "2d973aae-585b-44c2-fe59-e846d2479a92"
      },
      "execution_count": null,
      "outputs": [
        {
          "output_type": "stream",
          "name": "stdout",
          "text": [
            "Digite um valor: 4\n",
            "Você quer continuar? (s/n) s\n",
            "Depois do break\n",
            "Digite um valor: 4\n",
            "Você quer continuar? (s/n) n\n",
            "8\n"
          ]
        }
      ]
    },
    {
      "cell_type": "code",
      "source": [
        "### Peça para o usuário digitiar um númmero. Valide o que elle digitou, caso não\n",
        "### seja um número, peça para digitar novamente\n",
        "while True:\n",
        "  num = input('Digite um numero: ')\n",
        "  if num.isnumeric() == True:\n",
        "    print('Você digitou um numero válido')\n",
        "    break\n",
        "  print('Você não digitou um número válido')\n",
        "print('Fim')"
      ],
      "metadata": {
        "colab": {
          "base_uri": "https://localhost:8080/"
        },
        "id": "guoZfFgql6CZ",
        "outputId": "70196aff-31fe-4767-8e59-4dae317256cd"
      },
      "execution_count": null,
      "outputs": [
        {
          "output_type": "stream",
          "name": "stdout",
          "text": [
            "Digite um numero: 2\n",
            "Você digitou um numero válido\n",
            "Fim\n"
          ]
        }
      ]
    },
    {
      "cell_type": "code",
      "source": [
        "### Faça um programa que calcula a média de valores digitados pelo usuário pedir\n",
        "## para parar\n",
        "\n",
        "soma = 0\n",
        "i = 0\n",
        "\n",
        "while True:\n",
        "  i += 1\n",
        "  num = float(input('Digite um numero: '))\n",
        "  soma += num\n",
        "  continua = input('Você quer continuar? (s/n)')\n",
        "  if continua == 'n':\n",
        "    break\n",
        "media = soma/ i\n",
        "print('Você digitou {} numeros, e a média é de {}'.format(i, media))"
      ],
      "metadata": {
        "colab": {
          "base_uri": "https://localhost:8080/"
        },
        "id": "ONxEYEpVmc0z",
        "outputId": "31443759-4505-490b-89e1-0fb1d92f64a4"
      },
      "execution_count": null,
      "outputs": [
        {
          "output_type": "stream",
          "name": "stdout",
          "text": [
            "Digite um numero: 4\n",
            "Você quer continuar? (s/n)s\n",
            "Digite um numero: 2\n",
            "Você quer continuar? (s/n)s\n",
            "Digite um numero: 6\n",
            "Você quer continuar? (s/n)s\n",
            "Digite um numero: 7\n",
            "Você quer continuar? (s/n)n\n",
            "Você digitou 4 numeros, e a média é de 4.75\n"
          ]
        }
      ]
    }
  ]
}